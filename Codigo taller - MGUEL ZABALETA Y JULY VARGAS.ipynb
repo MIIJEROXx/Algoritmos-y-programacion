{
 "cells": [
  {
   "cell_type": "code",
   "execution_count": 6,
   "metadata": {},
   "outputs": [
    {
     "name": "stdout",
     "output_type": "stream",
     "text": [
      " ¡¡PERDISTE!!, El lobo te encontro y Fuiste su cena \n",
      "None\n"
     ]
    }
   ],
   "source": [
    "#Proteje al cerdito\n",
    "\n",
    "def play():\n",
    "    user = input(\"Elije Como quieres protejer al cerdito: 'T' Crear trampa, 'M'para Matar al lobo, 'E' Para esconderse\\n\")\n",
    "    opciones = ('t', 'm', 'e')\n",
    "\n",
    "    if user == 'e':\n",
    "        print(\" ¡¡PERDISTE!!, El lobo te encontro y Fuiste su cena \")\n",
    "        return     \n",
    "    \n",
    "    if user == 'm':\n",
    "        print(\" El lobo ya no te molestará \")\n",
    "        return   \n",
    "    if user == 't':\n",
    "        print(\" ¡¡PERDISTE!!, El lobo se escapo y te comio \")\n",
    "        return  \n",
    "\n",
    "print(play())  \n"
   ]
  }
 ],
 "metadata": {
  "kernelspec": {
   "display_name": "Python 3",
   "language": "python",
   "name": "python3"
  },
  "language_info": {
   "codemirror_mode": {
    "name": "ipython",
    "version": 3
   },
   "file_extension": ".py",
   "mimetype": "text/x-python",
   "name": "python",
   "nbconvert_exporter": "python",
   "pygments_lexer": "ipython3",
   "version": "3.11.9"
  }
 },
 "nbformat": 4,
 "nbformat_minor": 2
}
