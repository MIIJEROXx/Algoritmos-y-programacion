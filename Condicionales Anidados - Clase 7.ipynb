{
 "cells": [
  {
   "cell_type": "code",
   "execution_count": 13,
   "metadata": {},
   "outputs": [
    {
     "name": "stdout",
     "output_type": "stream",
     "text": [
      "g1!.z&-/\n"
     ]
    }
   ],
   "source": [
    "import random\n",
    "random.seed(1234)\n",
    "\n",
    "caracteres = '!'\"#$%&()*+,-./0123456789?@ABCDEFGHIJKLMNOPQRSTVWXYZabcdefghijklmnopqrstvwxyz\"\n",
    "contraseña = ''\n",
    "\n",
    "lengthPW =int(input('Que longitud quieres para tu Pw'))\n",
    "\n",
    "for _ in range (lengthPW):\n",
    "\n",
    "    contraseña += random.choice(caracteres)\n",
    "\n",
    "print(contraseña)"
   ]
  },
  {
   "cell_type": "code",
   "execution_count": 15,
   "metadata": {},
   "outputs": [
    {
     "name": "stdout",
     "output_type": "stream",
     "text": [
      "Contraseña Correcta\n"
     ]
    }
   ],
   "source": [
    "contraseña = \"Computadora\"\n",
    "contador = 0\n",
    "\n",
    "while True:\n",
    "    contraseña_input = input(\"Introduzca una Contraseña\")\n",
    "    contador+=1\n",
    "    \n",
    "    if contador > 3:\n",
    "        print(\"Haz sobrepasado los intentos\")\n",
    "    elif contraseña_input == \"Computadora\":\n",
    "        print(\"Contraseña Correcta\")\n",
    "        break\n",
    "    else:\n",
    "        print(\"Contraseña incorrecta , Introduzca una contraseña correcta\")"
   ]
  },
  {
   "cell_type": "code",
   "execution_count": null,
   "metadata": {},
   "outputs": [],
   "source": [
    "import random\n",
    "\n",
    "def play():\n",
    "    Jugador= input(\" ¿Qué vas a usar? 'piedra','papel','tijeras' \").lower()\n",
    "    user = input(\" ¿Qué vas a usar? 'piedra','papel','tijeras' \")\n",
    "    computer = random.choice (['piedra', 'papel', 'tijeras'])\n",
    "\n",
    "    if user == computer:\n",
    "        return 'Es un Empate'\n",
    "    \n",
    "    if is_win(user, computer):\n",
    "        return '¡Ganaste!'\n",
    "    return '¡Perdiste!'\n",
    "\n",
    "def is_win(player, opponent):\n",
    "    if (player == 'piedra' and opponent == 'tijeras') or (player == 'tijeras' and opponent == 'papel') \\\n",
    "        or (player == 'papel' and opponent == 'tijeras'):\n",
    "        return True\n",
    "    \n",
    "print(play())"
   ]
  },
  {
   "cell_type": "code",
   "execution_count": null,
   "metadata": {},
   "outputs": [],
   "source": [
    "for i in range(3):\n",
    "    print(f\"juego {i+1}:\")\n",
    "    resultado= play()\n",
    "    print(resultado)\n",
    "    print()\n"
   ]
  }
 ],
 "metadata": {
  "kernelspec": {
   "display_name": "Python 3",
   "language": "python",
   "name": "python3"
  },
  "language_info": {
   "codemirror_mode": {
    "name": "ipython",
    "version": 3
   },
   "file_extension": ".py",
   "mimetype": "text/x-python",
   "name": "python",
   "nbconvert_exporter": "python",
   "pygments_lexer": "ipython3",
   "version": "3.11.9"
  }
 },
 "nbformat": 4,
 "nbformat_minor": 2
}
