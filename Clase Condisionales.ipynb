{
 "cells": [
  {
   "cell_type": "code",
   "execution_count": 1,
   "metadata": {},
   "outputs": [
    {
     "data": {
      "text/plain": [
       "2"
      ]
     },
     "execution_count": 1,
     "metadata": {},
     "output_type": "execute_result"
    }
   ],
   "source": [
    "1+1"
   ]
  },
  {
   "cell_type": "code",
   "execution_count": 7,
   "metadata": {},
   "outputs": [
    {
     "name": "stdout",
     "output_type": "stream",
     "text": [
      "Es impar \n"
     ]
    }
   ],
   "source": [
    "#verifica si es un numero es par o impar \n",
    "numero = int(input(\"Ingrese un numero\")) \n",
    "if not numero%6: \n",
    "    print(\"Es par \")\n",
    "else:\n",
    "    print(\"Es impar \")\n"
   ]
  },
  {
   "cell_type": "code",
   "execution_count": 6,
   "metadata": {},
   "outputs": [
    {
     "name": "stdout",
     "output_type": "stream",
     "text": [
      "2\n"
     ]
    }
   ],
   "source": [
    "#Decrementa x en 1 unidad si es mayor que cero\n",
    "x= 5\n",
    "x-=1 if x>0 else x\n",
    "print(x)"
   ]
  },
  {
   "cell_type": "code",
   "execution_count": 19,
   "metadata": {},
   "outputs": [
    {
     "name": "stdout",
     "output_type": "stream",
     "text": [
      "It's a tie\n"
     ]
    }
   ],
   "source": [
    "import random\n",
    "\n",
    "def play():\n",
    "    user = input(\"what's your choice 'r' for rock, 'p' for paper, 's' for scissirs\\n\")\n",
    "    computer = random.choice (['r','p','s'])\n",
    "\n",
    "    if user == computer:\n",
    "        return 'It\\'s a tie'\n",
    "    \n",
    "    # r > s, s> p, p> r \n",
    "    if is_win(user, computer):\n",
    "        return'you won!'\n",
    "    \n",
    "    return'you lost!'\n",
    "def is_win(player,opponent):\n",
    "    #return true if player wins\n",
    "    # r > s, s> p, p> r\n",
    "    if player =='r' and opponent==('s') or (player=='s'and opponent =='p')\\\n",
    "    or (player== 'p'and opponent == 'r'):\n",
    "        return True \n",
    "print(play())"
   ]
  }
 ],
 "metadata": {
  "kernelspec": {
   "display_name": "Python 3",
   "language": "python",
   "name": "python3"
  },
  "language_info": {
   "codemirror_mode": {
    "name": "ipython",
    "version": 3
   },
   "file_extension": ".py",
   "mimetype": "text/x-python",
   "name": "python",
   "nbconvert_exporter": "python",
   "pygments_lexer": "ipython3",
   "version": "3.11.9"
  }
 },
 "nbformat": 4,
 "nbformat_minor": 2
}
